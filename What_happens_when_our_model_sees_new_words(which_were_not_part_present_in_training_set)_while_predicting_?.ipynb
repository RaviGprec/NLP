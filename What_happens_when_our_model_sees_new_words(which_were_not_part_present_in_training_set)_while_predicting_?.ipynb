{
  "nbformat": 4,
  "nbformat_minor": 0,
  "metadata": {
    "colab": {
      "name": "What happens when our model sees new words(which were not part present in training set) while predicting ?",
      "provenance": [],
      "collapsed_sections": [],
      "include_colab_link": true
    },
    "kernelspec": {
      "name": "python3",
      "display_name": "Python 3"
    }
  },
  "cells": [
    {
      "cell_type": "markdown",
      "metadata": {
        "id": "view-in-github",
        "colab_type": "text"
      },
      "source": [
        "<a href=\"https://colab.research.google.com/github/RaviGprec/NLP/blob/master/What_happens_when_our_model_sees_new_words(which_were_not_part_present_in_training_set)_while_predicting_%3F.ipynb\" target=\"_parent\"><img src=\"https://colab.research.google.com/assets/colab-badge.svg\" alt=\"Open In Colab\"/></a>"
      ]
    },
    {
      "cell_type": "markdown",
      "metadata": {
        "id": "iP71G1HWwvhG",
        "colab_type": "text"
      },
      "source": [
        "**Understanding of Bag of Words**"
      ]
    },
    {
      "cell_type": "code",
      "metadata": {
        "id": "ZL-5TjZum8tM",
        "colab_type": "code",
        "colab": {
          "base_uri": "https://localhost:8080/",
          "height": 106
        },
        "outputId": "cfe9989d-0902-4d89-a719-07c93e6c53af"
      },
      "source": [
        "import numpy as np\n",
        "import pandas as pd\n",
        "import nltk\n",
        "from sklearn.naive_bayes import MultinomialNB\n",
        "from sklearn.feature_extraction.text import CountVectorizer\n",
        "\n",
        "text  = [[\"movies is good\",\"positive\"],\n",
        "            [\"movie is not good\",\"negative\"]\n",
        "            ]\n",
        "df = pd.DataFrame(text, columns = [\"review\",'sentiment'])\n",
        "df.head()"
      ],
      "execution_count": 56,
      "outputs": [
        {
          "output_type": "execute_result",
          "data": {
            "text/html": [
              "<div>\n",
              "<style scoped>\n",
              "    .dataframe tbody tr th:only-of-type {\n",
              "        vertical-align: middle;\n",
              "    }\n",
              "\n",
              "    .dataframe tbody tr th {\n",
              "        vertical-align: top;\n",
              "    }\n",
              "\n",
              "    .dataframe thead th {\n",
              "        text-align: right;\n",
              "    }\n",
              "</style>\n",
              "<table border=\"1\" class=\"dataframe\">\n",
              "  <thead>\n",
              "    <tr style=\"text-align: right;\">\n",
              "      <th></th>\n",
              "      <th>review</th>\n",
              "      <th>sentiment</th>\n",
              "    </tr>\n",
              "  </thead>\n",
              "  <tbody>\n",
              "    <tr>\n",
              "      <th>0</th>\n",
              "      <td>movies is good</td>\n",
              "      <td>positive</td>\n",
              "    </tr>\n",
              "    <tr>\n",
              "      <th>1</th>\n",
              "      <td>movie is not good</td>\n",
              "      <td>negative</td>\n",
              "    </tr>\n",
              "  </tbody>\n",
              "</table>\n",
              "</div>"
            ],
            "text/plain": [
              "              review sentiment\n",
              "0     movies is good  positive\n",
              "1  movie is not good  negative"
            ]
          },
          "metadata": {
            "tags": []
          },
          "execution_count": 56
        }
      ]
    },
    {
      "cell_type": "code",
      "metadata": {
        "id": "fVRVHrzxocga",
        "colab_type": "code",
        "colab": {
          "base_uri": "https://localhost:8080/",
          "height": 106
        },
        "outputId": "d81753cf-1245-4fa8-fca3-6b56aefd3aa8"
      },
      "source": [
        "cv = CountVectorizer(stop_words=frozenset([\"is\"])) #Here I gave stop_words is Only \"is\" becuase if we use stop_words='english' not will not be considered. Hence gave only \"is\" to be considered as stop_word\n",
        "X_transform = cv.fit_transform(df['review']).toarray()\n",
        "df_1 = pd.DataFrame(X_transform,columns=cv.get_feature_names())\n",
        "df_1.head()"
      ],
      "execution_count": 57,
      "outputs": [
        {
          "output_type": "execute_result",
          "data": {
            "text/html": [
              "<div>\n",
              "<style scoped>\n",
              "    .dataframe tbody tr th:only-of-type {\n",
              "        vertical-align: middle;\n",
              "    }\n",
              "\n",
              "    .dataframe tbody tr th {\n",
              "        vertical-align: top;\n",
              "    }\n",
              "\n",
              "    .dataframe thead th {\n",
              "        text-align: right;\n",
              "    }\n",
              "</style>\n",
              "<table border=\"1\" class=\"dataframe\">\n",
              "  <thead>\n",
              "    <tr style=\"text-align: right;\">\n",
              "      <th></th>\n",
              "      <th>good</th>\n",
              "      <th>movie</th>\n",
              "      <th>movies</th>\n",
              "      <th>not</th>\n",
              "    </tr>\n",
              "  </thead>\n",
              "  <tbody>\n",
              "    <tr>\n",
              "      <th>0</th>\n",
              "      <td>1</td>\n",
              "      <td>0</td>\n",
              "      <td>1</td>\n",
              "      <td>0</td>\n",
              "    </tr>\n",
              "    <tr>\n",
              "      <th>1</th>\n",
              "      <td>1</td>\n",
              "      <td>1</td>\n",
              "      <td>0</td>\n",
              "      <td>1</td>\n",
              "    </tr>\n",
              "  </tbody>\n",
              "</table>\n",
              "</div>"
            ],
            "text/plain": [
              "   good  movie  movies  not\n",
              "0     1      0       1    0\n",
              "1     1      1       0    1"
            ]
          },
          "metadata": {
            "tags": []
          },
          "execution_count": 57
        }
      ]
    },
    {
      "cell_type": "markdown",
      "metadata": {
        "id": "s6cLYUGAxxBa",
        "colab_type": "text"
      },
      "source": [
        "This is the matrix of Bag-Of-Words which is created by our CountVectorizer. The main intension of creating this example is to answer the question 'what happens when our model encounters unseen words in the training set (i.e how the model predicts when it sees new words which were not present in trainin set)?'\n",
        "\n",
        "Let's train the model first"
      ]
    },
    {
      "cell_type": "code",
      "metadata": {
        "id": "7b1aoHMMscqq",
        "colab_type": "code",
        "colab": {}
      },
      "source": [
        "model = MultinomialNB().fit(df_1,df['sentiment'])\n"
      ],
      "execution_count": 0,
      "outputs": []
    },
    {
      "cell_type": "markdown",
      "metadata": {
        "id": "kIEjQ9o0ym7z",
        "colab_type": "text"
      },
      "source": [
        "Now, our model can predict the sentiment when we give test data with the words (good, movie, movies, not). "
      ]
    },
    {
      "cell_type": "code",
      "metadata": {
        "id": "qFSkKfIRtpQP",
        "colab_type": "code",
        "colab": {
          "base_uri": "https://localhost:8080/",
          "height": 84
        },
        "outputId": "524e158c-18b8-4cd2-9ebd-ef3bd4383265"
      },
      "source": [
        "test = ['good not movie']\n",
        "test_1 = cv.transform(test).toarray()\n",
        "print(test_1)\n",
        "print(model.predict(test_1))\n",
        "\n",
        "test = ['good movies']\n",
        "test_1 = cv.transform(test).toarray()\n",
        "print(test_1)\n",
        "print(model.predict(test_1))"
      ],
      "execution_count": 59,
      "outputs": [
        {
          "output_type": "stream",
          "text": [
            "[[1 1 0 1]]\n",
            "['negative']\n",
            "[[1 0 1 0]]\n",
            "['positive']\n"
          ],
          "name": "stdout"
        }
      ]
    },
    {
      "cell_type": "markdown",
      "metadata": {
        "id": "Xzv9FYuu0H5T",
        "colab_type": "text"
      },
      "source": [
        "So far it is good. What happens when we give new words (unseen words). How the BOW (bag of words) matrix will look like?"
      ]
    },
    {
      "cell_type": "code",
      "metadata": {
        "id": "fMYrmZ0Q0hun",
        "colab_type": "code",
        "colab": {
          "base_uri": "https://localhost:8080/",
          "height": 94
        },
        "outputId": "fe153f40-cb4c-4df8-f375-877299bfe47d"
      },
      "source": [
        "test = ['good hello']\n",
        "test_1 = cv.transform(test).toarray()\n",
        "print(test_1)\n",
        "test_1 = pd.DataFrame(test_1,columns=cv.get_feature_names())\n",
        "test_1"
      ],
      "execution_count": 60,
      "outputs": [
        {
          "output_type": "stream",
          "text": [
            "[[1 0 0 0]]\n"
          ],
          "name": "stdout"
        },
        {
          "output_type": "execute_result",
          "data": {
            "text/html": [
              "<div>\n",
              "<style scoped>\n",
              "    .dataframe tbody tr th:only-of-type {\n",
              "        vertical-align: middle;\n",
              "    }\n",
              "\n",
              "    .dataframe tbody tr th {\n",
              "        vertical-align: top;\n",
              "    }\n",
              "\n",
              "    .dataframe thead th {\n",
              "        text-align: right;\n",
              "    }\n",
              "</style>\n",
              "<table border=\"1\" class=\"dataframe\">\n",
              "  <thead>\n",
              "    <tr style=\"text-align: right;\">\n",
              "      <th></th>\n",
              "      <th>good</th>\n",
              "      <th>movie</th>\n",
              "      <th>movies</th>\n",
              "      <th>not</th>\n",
              "    </tr>\n",
              "  </thead>\n",
              "  <tbody>\n",
              "    <tr>\n",
              "      <th>0</th>\n",
              "      <td>1</td>\n",
              "      <td>0</td>\n",
              "      <td>0</td>\n",
              "      <td>0</td>\n",
              "    </tr>\n",
              "  </tbody>\n",
              "</table>\n",
              "</div>"
            ],
            "text/plain": [
              "   good  movie  movies  not\n",
              "0     1      0       0    0"
            ]
          },
          "metadata": {
            "tags": []
          },
          "execution_count": 60
        }
      ]
    },
    {
      "cell_type": "markdown",
      "metadata": {
        "id": "ttMwpkz107tJ",
        "colab_type": "text"
      },
      "source": [
        "countvectorizer considered only \"good\" and it ignored \"hello\". So the conclusion is that countvectozer considers only the ones which it has seen and for rest of the words it ignores them."
      ]
    },
    {
      "cell_type": "code",
      "metadata": {
        "id": "c7g_lXUD0rZh",
        "colab_type": "code",
        "colab": {
          "base_uri": "https://localhost:8080/",
          "height": 34
        },
        "outputId": "9aae58f5-03d1-4474-da1a-e378c9b878a6"
      },
      "source": [
        "print(model.predict(test_1))"
      ],
      "execution_count": 61,
      "outputs": [
        {
          "output_type": "stream",
          "text": [
            "['positive']\n"
          ],
          "name": "stdout"
        }
      ]
    }
  ]
}