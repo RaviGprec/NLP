{
  "nbformat": 4,
  "nbformat_minor": 0,
  "metadata": {
    "kernelspec": {
      "display_name": "Python 3",
      "language": "python",
      "name": "python3"
    },
    "language_info": {
      "codemirror_mode": {
        "name": "ipython",
        "version": 3
      },
      "file_extension": ".py",
      "mimetype": "text/x-python",
      "name": "python",
      "nbconvert_exporter": "python",
      "pygments_lexer": "ipython3",
      "version": "3.6.5"
    },
    "colab": {
      "name": "edit+distance.ipynb",
      "provenance": [],
      "include_colab_link": true
    }
  },
  "cells": [
    {
      "cell_type": "markdown",
      "metadata": {
        "id": "view-in-github",
        "colab_type": "text"
      },
      "source": [
        "<a href=\"https://colab.research.google.com/github/RaviGprec/NLP/blob/master/edit%2Bdistance.ipynb\" target=\"_parent\"><img src=\"https://colab.research.google.com/assets/colab-badge.svg\" alt=\"Open In Colab\"/></a>"
      ]
    },
    {
      "cell_type": "markdown",
      "metadata": {
        "id": "eVx6U3MHFFXb",
        "colab_type": "text"
      },
      "source": [
        "## Levenshtein Edit Distance\n",
        "The levenshtein distance calculates the number of steps (insertions, deletions or substitutions) required to go from source string to target string."
      ]
    },
    {
      "cell_type": "code",
      "metadata": {
        "id": "7Wghuv5yFFXe",
        "colab_type": "code",
        "colab": {}
      },
      "source": [
        "def lev_distance(source='', target=''):\n",
        "    \"\"\"Make a Levenshtein Distances Matrix\"\"\"\n",
        "    \n",
        "    # get length of both strings\n",
        "    n1, n2 = len(source), len(target)\n",
        "    \n",
        "    # create matrix using length of both strings - source string sits on columns, target string sits on rows\n",
        "    matrix = [ [ 0 for i1 in range(n1 + 1) ] for i2 in range(n2 + 1) ]\n",
        "    \n",
        "    # fill the first row - (0 to n1-1)\n",
        "    for i1 in range(1, n1 + 1):\n",
        "        matrix[0][i1] = i1\n",
        "    \n",
        "    # fill the first column - (0 to n2-1)\n",
        "    for i2 in range(1, n2 + 1):\n",
        "        matrix[i2][0] = i2\n",
        "    \n",
        "    # fill the matrix\n",
        "    for i2 in range(1, n2 + 1):\n",
        "        for i1 in range(1, n1 + 1):\n",
        "            \n",
        "            # check whether letters being compared are same\n",
        "            if (source[i1-1] == target[i2-1]):\n",
        "                value = matrix[i2-1][i1-1]               # top-left cell value\n",
        "            else:\n",
        "                value = min(matrix[i2-1][i1]   + 1,      # left cell value     + 1\n",
        "                            matrix[i2][i1-1]   + 1,      # top cell  value     + 1\n",
        "                            matrix[i2-1][i1-1] + 1)      # top-left cell value + 1\n",
        "            \n",
        "            matrix[i2][i1] = value\n",
        "    \n",
        "    # return bottom-right cell value\n",
        "    return matrix[-1][-1]"
      ],
      "execution_count": 0,
      "outputs": []
    },
    {
      "cell_type": "code",
      "metadata": {
        "id": "cm3t4H4hFFXi",
        "colab_type": "code",
        "outputId": "540a8af6-f0d8-46b5-dca3-b7ff1f323930",
        "colab": {}
      },
      "source": [
        "lev_distance('cat', 'cta')"
      ],
      "execution_count": 0,
      "outputs": [
        {
          "output_type": "execute_result",
          "data": {
            "text/plain": [
              "2"
            ]
          },
          "metadata": {
            "tags": []
          },
          "execution_count": 2
        }
      ]
    },
    {
      "cell_type": "markdown",
      "metadata": {
        "id": "8zBFCQBJFFXm",
        "colab_type": "text"
      },
      "source": [
        "## Levenshtein distance in nltk library"
      ]
    },
    {
      "cell_type": "code",
      "metadata": {
        "id": "CTi_CjHcFFXn",
        "colab_type": "code",
        "colab": {}
      },
      "source": [
        "# import library\n",
        "from nltk.metrics.distance import edit_distance"
      ],
      "execution_count": 0,
      "outputs": []
    },
    {
      "cell_type": "code",
      "metadata": {
        "id": "Dji9wf0OFFXp",
        "colab_type": "code",
        "outputId": "749c3a3d-e99c-4c83-dfea-8e5b338b2324",
        "colab": {}
      },
      "source": [
        "edit_distance(\"apple\", \"appel\")"
      ],
      "execution_count": 0,
      "outputs": [
        {
          "output_type": "execute_result",
          "data": {
            "text/plain": [
              "2"
            ]
          },
          "metadata": {
            "tags": []
          },
          "execution_count": 4
        }
      ]
    },
    {
      "cell_type": "markdown",
      "metadata": {
        "id": "xr7uZzNWFFXs",
        "colab_type": "text"
      },
      "source": [
        "## Damerau-Levenshtein Distance\n",
        "The Damerau-Levenshtein distance allows transpositions (swap of two letters which are adjacent to each other) as well."
      ]
    },
    {
      "cell_type": "code",
      "metadata": {
        "id": "tajQaKJWFFXt",
        "colab_type": "code",
        "outputId": "aaa59540-d12c-4f7f-8c94-0a47f356ab7f",
        "colab": {}
      },
      "source": [
        "edit_distance(\"apple\", \"appel\", transpositions=False, )"
      ],
      "execution_count": 0,
      "outputs": [
        {
          "output_type": "execute_result",
          "data": {
            "text/plain": [
              "2"
            ]
          },
          "metadata": {
            "tags": []
          },
          "execution_count": 3
        }
      ]
    },
    {
      "cell_type": "code",
      "metadata": {
        "id": "WWCFl9nJFFXv",
        "colab_type": "code",
        "colab": {}
      },
      "source": [
        ""
      ],
      "execution_count": 0,
      "outputs": []
    }
  ]
}