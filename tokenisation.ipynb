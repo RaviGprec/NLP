{
  "nbformat": 4,
  "nbformat_minor": 0,
  "metadata": {
    "kernelspec": {
      "display_name": "Python 3",
      "language": "python",
      "name": "python3"
    },
    "language_info": {
      "codemirror_mode": {
        "name": "ipython",
        "version": 3
      },
      "file_extension": ".py",
      "mimetype": "text/x-python",
      "name": "python",
      "nbconvert_exporter": "python",
      "pygments_lexer": "ipython3",
      "version": "3.6.5"
    },
    "colab": {
      "name": "tokenisation.ipynb",
      "provenance": [],
      "include_colab_link": true
    }
  },
  "cells": [
    {
      "cell_type": "markdown",
      "metadata": {
        "id": "view-in-github",
        "colab_type": "text"
      },
      "source": [
        "<a href=\"https://colab.research.google.com/github/RaviGprec/NLP/blob/master/tokenisation.ipynb\" target=\"_parent\"><img src=\"https://colab.research.google.com/assets/colab-badge.svg\" alt=\"Open In Colab\"/></a>"
      ]
    },
    {
      "cell_type": "markdown",
      "metadata": {
        "id": "OFkdIVOTmEtL",
        "colab_type": "text"
      },
      "source": [
        "# Tokenisation\n",
        "\n",
        "The notebook contains three types of tokenisation techniques:\n",
        "1. Word tokenisation\n",
        "2. Sentence tokenisation\n",
        "3. Tweet tokenisation\n",
        "4. Custom tokenisation using regular expressions"
      ]
    },
    {
      "cell_type": "markdown",
      "metadata": {
        "id": "woKli7k6mEtR",
        "colab_type": "text"
      },
      "source": [
        "### 1. Word tokenisation"
      ]
    },
    {
      "cell_type": "code",
      "metadata": {
        "id": "wIeF21Y8mEtT",
        "colab_type": "code",
        "colab": {
          "base_uri": "https://localhost:8080/",
          "height": 34
        },
        "outputId": "a9316f3b-d7a6-4169-ef6a-99b28f7d1f13"
      },
      "source": [
        "document = \"At nine o'clock I visited him myself. It looks like religious mania, and he'll soon think that he himself is God.\"\n",
        "print(document)"
      ],
      "execution_count": 1,
      "outputs": [
        {
          "output_type": "stream",
          "text": [
            "At nine o'clock I visited him myself. It looks like religious mania, and he'll soon think that he himself is God.\n"
          ],
          "name": "stdout"
        }
      ]
    },
    {
      "cell_type": "markdown",
      "metadata": {
        "id": "q2kOm2xGmEtf",
        "colab_type": "text"
      },
      "source": [
        "Tokenising on spaces using python"
      ]
    },
    {
      "cell_type": "code",
      "metadata": {
        "id": "9c-_RgTNmEtg",
        "colab_type": "code",
        "colab": {
          "base_uri": "https://localhost:8080/",
          "height": 34
        },
        "outputId": "d1b7e198-a890-46a2-9684-d82c3364ad67"
      },
      "source": [
        "print(document.split())"
      ],
      "execution_count": 2,
      "outputs": [
        {
          "output_type": "stream",
          "text": [
            "['At', 'nine', \"o'clock\", 'I', 'visited', 'him', 'myself.', 'It', 'looks', 'like', 'religious', 'mania,', 'and', \"he'll\", 'soon', 'think', 'that', 'he', 'himself', 'is', 'God.']\n"
          ],
          "name": "stdout"
        }
      ]
    },
    {
      "cell_type": "markdown",
      "metadata": {
        "id": "XKpMUjiqmEtl",
        "colab_type": "text"
      },
      "source": [
        "Tokenising using nltk word tokeniser"
      ]
    },
    {
      "cell_type": "code",
      "metadata": {
        "id": "-56tJrR7mEtm",
        "colab_type": "code",
        "colab": {
          "base_uri": "https://localhost:8080/",
          "height": 51
        },
        "outputId": "1d66500f-e793-4aa1-c0d5-af046391f536"
      },
      "source": [
        "from nltk.tokenize import word_tokenize\n",
        "import nltk\n",
        "nltk.download('punkt')\n",
        "words = word_tokenize(document)"
      ],
      "execution_count": 6,
      "outputs": [
        {
          "output_type": "stream",
          "text": [
            "[nltk_data] Downloading package punkt to /root/nltk_data...\n",
            "[nltk_data]   Unzipping tokenizers/punkt.zip.\n"
          ],
          "name": "stdout"
        }
      ]
    },
    {
      "cell_type": "code",
      "metadata": {
        "id": "kXdsUwvlmEtr",
        "colab_type": "code",
        "colab": {
          "base_uri": "https://localhost:8080/",
          "height": 54
        },
        "outputId": "bfa328ce-1085-4f77-9930-40659884544d"
      },
      "source": [
        "print(words)"
      ],
      "execution_count": 7,
      "outputs": [
        {
          "output_type": "stream",
          "text": [
            "['At', 'nine', \"o'clock\", 'I', 'visited', 'him', 'myself', '.', 'It', 'looks', 'like', 'religious', 'mania', ',', 'and', 'he', \"'ll\", 'soon', 'think', 'that', 'he', 'himself', 'is', 'God', '.']\n"
          ],
          "name": "stdout"
        }
      ]
    },
    {
      "cell_type": "markdown",
      "metadata": {
        "id": "bQ59kXdfmEtu",
        "colab_type": "text"
      },
      "source": [
        "NLTK's word tokeniser not only breaks on whitespaces but also breaks contraction words such as he'll into \"he\" and \"'ll\". On the other hand it doesn't break \"o'clock\" and treats it as a separate token."
      ]
    },
    {
      "cell_type": "markdown",
      "metadata": {
        "id": "mAvK5s7hmEtv",
        "colab_type": "text"
      },
      "source": [
        "### 2. Sentence tokeniser"
      ]
    },
    {
      "cell_type": "markdown",
      "metadata": {
        "id": "ziJrM8L6mEtv",
        "colab_type": "text"
      },
      "source": [
        "Tokenising based on sentence requires you to split on the period ('.'). Let's use nltk sentence tokeniser."
      ]
    },
    {
      "cell_type": "code",
      "metadata": {
        "id": "zmo8F4BxmEtw",
        "colab_type": "code",
        "colab": {}
      },
      "source": [
        "from nltk.tokenize import sent_tokenize\n",
        "sentences = sent_tokenize(document)"
      ],
      "execution_count": 0,
      "outputs": []
    },
    {
      "cell_type": "code",
      "metadata": {
        "id": "HJUdItOxmEty",
        "colab_type": "code",
        "colab": {
          "base_uri": "https://localhost:8080/",
          "height": 34
        },
        "outputId": "0c082844-55ec-42be-a964-1cc1fc12d3b2"
      },
      "source": [
        "print(sentences)"
      ],
      "execution_count": 9,
      "outputs": [
        {
          "output_type": "stream",
          "text": [
            "[\"At nine o'clock I visited him myself.\", \"It looks like religious mania, and he'll soon think that he himself is God.\"]\n"
          ],
          "name": "stdout"
        }
      ]
    },
    {
      "cell_type": "markdown",
      "metadata": {
        "id": "cYa3MmtcmEt1",
        "colab_type": "text"
      },
      "source": [
        "### 3. Tweet tokeniser"
      ]
    },
    {
      "cell_type": "markdown",
      "metadata": {
        "id": "LLh4XKUWmEt1",
        "colab_type": "text"
      },
      "source": [
        "A problem with word tokeniser is that it fails to tokeniser emojis and other complex special characters such as word with hashtags. Emojis are common these days and people use them all the time."
      ]
    },
    {
      "cell_type": "code",
      "metadata": {
        "id": "RmoBIplYmEt2",
        "colab_type": "code",
        "colab": {}
      },
      "source": [
        "message = \"i recently watched this show called mindhunters:). i totally loved it 😍. it was gr8 <3. #bingewatching #nothingtodo 😎\""
      ],
      "execution_count": 0,
      "outputs": []
    },
    {
      "cell_type": "code",
      "metadata": {
        "scrolled": true,
        "id": "sfbhjfRmmEt4",
        "colab_type": "code",
        "colab": {
          "base_uri": "https://localhost:8080/",
          "height": 54
        },
        "outputId": "725681c1-279e-4d49-9389-e21a78c109fc"
      },
      "source": [
        "print(word_tokenize(message))"
      ],
      "execution_count": 11,
      "outputs": [
        {
          "output_type": "stream",
          "text": [
            "['i', 'recently', 'watched', 'this', 'show', 'called', 'mindhunters', ':', ')', '.', 'i', 'totally', 'loved', 'it', '😍', '.', 'it', 'was', 'gr8', '<', '3', '.', '#', 'bingewatching', '#', 'nothingtodo', '😎']\n"
          ],
          "name": "stdout"
        }
      ]
    },
    {
      "cell_type": "markdown",
      "metadata": {
        "id": "-uCBIcYwmEt7",
        "colab_type": "text"
      },
      "source": [
        "The word tokeniser breaks the emoji '<3' into '<' and '3' which is something that we don't want. Emojis have their own significance in areas like sentiment analysis where a happy face and sad face can salone prove to be a really good predictor of the sentiment. Similarly, the hashtags are broken into two tokens. A hashtag is used for searching specific topics or photos in social media apps such as Instagram and facebook. So there, you want to use the hashtag as is.\n",
        "\n",
        "Let's use the tweet tokeniser of nltk to tokenise this message."
      ]
    },
    {
      "cell_type": "code",
      "metadata": {
        "id": "EM7T3uJEmEt7",
        "colab_type": "code",
        "colab": {}
      },
      "source": [
        "from nltk.tokenize import TweetTokenizer\n",
        "tknzr = TweetTokenizer()"
      ],
      "execution_count": 0,
      "outputs": []
    },
    {
      "cell_type": "code",
      "metadata": {
        "id": "NfBnOGaPmEt-",
        "colab_type": "code",
        "colab": {},
        "outputId": "252c063c-33c7-4685-aac6-97148d48c37a"
      },
      "source": [
        "tknzr.tokenize(message)"
      ],
      "execution_count": 0,
      "outputs": [
        {
          "output_type": "execute_result",
          "data": {
            "text/plain": [
              "['i',\n",
              " 'recently',\n",
              " 'watched',\n",
              " 'this',\n",
              " 'show',\n",
              " 'called',\n",
              " 'mindhunters',\n",
              " ':)',\n",
              " '.',\n",
              " 'i',\n",
              " 'totally',\n",
              " 'loved',\n",
              " 'it',\n",
              " '😍',\n",
              " '.',\n",
              " 'it',\n",
              " 'was',\n",
              " 'gr8',\n",
              " '<3',\n",
              " '.',\n",
              " '#bingewatching',\n",
              " '#nothingtodo',\n",
              " '😎']"
            ]
          },
          "metadata": {
            "tags": []
          },
          "execution_count": 10
        }
      ]
    },
    {
      "cell_type": "markdown",
      "metadata": {
        "id": "41RWA4H9mEuA",
        "colab_type": "text"
      },
      "source": [
        "As you can see, it handles all the emojis and the hashtags pretty well.\n",
        "\n",
        "Now, there is a tokeniser that takes a regular expression and tokenises and returns result based on the pattern of regular expression.\n",
        "\n",
        "Let's look at how you can use regular expression tokeniser."
      ]
    },
    {
      "cell_type": "code",
      "metadata": {
        "id": "ckxdeArjmEuB",
        "colab_type": "code",
        "colab": {}
      },
      "source": [
        "from nltk.tokenize import regexp_tokenize\n",
        "message = \"i recently watched this show called mindhunters:). i totally loved it 😍. it was gr8 <3. #bingewatching #nothingtodo 😎\"\n",
        "pattern = \"#[\\w]+\""
      ],
      "execution_count": 0,
      "outputs": []
    },
    {
      "cell_type": "code",
      "metadata": {
        "id": "KStyRppGmEuD",
        "colab_type": "code",
        "colab": {},
        "outputId": "0d0418c2-6e5f-4969-9db1-78cfe598e2e6"
      },
      "source": [
        "regexp_tokenize(message, pattern)"
      ],
      "execution_count": 0,
      "outputs": [
        {
          "output_type": "execute_result",
          "data": {
            "text/plain": [
              "['#bingewatching', '#nothingtodo']"
            ]
          },
          "metadata": {
            "tags": []
          },
          "execution_count": 12
        }
      ]
    }
  ]
}