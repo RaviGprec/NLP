{
  "nbformat": 4,
  "nbformat_minor": 0,
  "metadata": {
    "colab": {
      "name": "N-Grams Intro.ipynb",
      "provenance": [],
      "authorship_tag": "ABX9TyMLule649adphTEtCE6p8Jt",
      "include_colab_link": true
    },
    "kernelspec": {
      "name": "python3",
      "display_name": "Python 3"
    }
  },
  "cells": [
    {
      "cell_type": "markdown",
      "metadata": {
        "id": "view-in-github",
        "colab_type": "text"
      },
      "source": [
        "<a href=\"https://colab.research.google.com/github/RaviGprec/NLP/blob/master/N_Grams_Intro.ipynb\" target=\"_parent\"><img src=\"https://colab.research.google.com/assets/colab-badge.svg\" alt=\"Open In Colab\"/></a>"
      ]
    },
    {
      "cell_type": "markdown",
      "metadata": {
        "id": "T_lMcrtl_7Lt",
        "colab_type": "text"
      },
      "source": [
        " **N-Grams**\n",
        "\n",
        "*   An n-gram is a contiguous sequence of n items from a given sample of text or speech. The items can be phonemes, syllables, letters, words or base pairs according to the application. The n-grams typically are collected from a text or speech corpus.\n",
        "*   An n-gram of size 1 is referred to as a \"unigram\"; size 2 is a \"bigram\" (or, less commonly, a \"digram\"); size 3 is a \"trigram\". English cardinal numbers are sometimes used, e.g., \"four-gram\", \"five-gram\", and so on\n",
        "*   An n-gram model is a type of probabilistic **language model** **[LM]**for predicting the next item in a sequence\n"
      ]
    },
    {
      "cell_type": "code",
      "metadata": {
        "id": "X1mFiJXuB3ow",
        "colab_type": "code",
        "colab": {}
      },
      "source": [
        "s = \"Natural-language processing (NLP) is an area of computer science \" \\\n",
        "    \"and artificial intelligence concerned with the interactions \" \\\n",
        "    \"between computers and human (natural) languages.\""
      ],
      "execution_count": 0,
      "outputs": []
    },
    {
      "cell_type": "code",
      "metadata": {
        "id": "4-CQf2czBnWE",
        "colab_type": "code",
        "outputId": "b80a1557-e058-44b0-aefa-cc554e6156a9",
        "colab": {
          "base_uri": "https://localhost:8080/",
          "height": 34
        }
      },
      "source": [
        "s"
      ],
      "execution_count": 7,
      "outputs": [
        {
          "output_type": "execute_result",
          "data": {
            "text/plain": [
              "'Natural-language processing (NLP) is an area of computer science and artificial intelligence concerned with the interactions between computers and human (natural) languages.'"
            ]
          },
          "metadata": {
            "tags": []
          },
          "execution_count": 7
        }
      ]
    },
    {
      "cell_type": "code",
      "metadata": {
        "id": "5oDQHMYzByPL",
        "colab_type": "code",
        "outputId": "9da176e1-d8bb-4cf5-cc9a-82c7692e2347",
        "colab": {
          "base_uri": "https://localhost:8080/",
          "height": 34
        }
      },
      "source": [
        "import re\n",
        "s = re.sub(r'[^a-zA-Z0-9\\s]',' ',s)\n",
        "s"
      ],
      "execution_count": 8,
      "outputs": [
        {
          "output_type": "execute_result",
          "data": {
            "text/plain": [
              "'Natural language processing  NLP  is an area of computer science and artificial intelligence concerned with the interactions between computers and human  natural  languages '"
            ]
          },
          "metadata": {
            "tags": []
          },
          "execution_count": 8
        }
      ]
    },
    {
      "cell_type": "code",
      "metadata": {
        "id": "KJRkWHMNB_dU",
        "colab_type": "code",
        "outputId": "84b5041c-fb6c-4862-c9a1-19ed139aafd4",
        "colab": {
          "base_uri": "https://localhost:8080/",
          "height": 403
        }
      },
      "source": [
        "tokens = [token for token in s.split(\" \") if token != \"\"]\n",
        "tokens"
      ],
      "execution_count": 9,
      "outputs": [
        {
          "output_type": "execute_result",
          "data": {
            "text/plain": [
              "['Natural',\n",
              " 'language',\n",
              " 'processing',\n",
              " 'NLP',\n",
              " 'is',\n",
              " 'an',\n",
              " 'area',\n",
              " 'of',\n",
              " 'computer',\n",
              " 'science',\n",
              " 'and',\n",
              " 'artificial',\n",
              " 'intelligence',\n",
              " 'concerned',\n",
              " 'with',\n",
              " 'the',\n",
              " 'interactions',\n",
              " 'between',\n",
              " 'computers',\n",
              " 'and',\n",
              " 'human',\n",
              " 'natural',\n",
              " 'languages']"
            ]
          },
          "metadata": {
            "tags": []
          },
          "execution_count": 9
        }
      ]
    },
    {
      "cell_type": "code",
      "metadata": {
        "id": "SFm7XFqECOHM",
        "colab_type": "code",
        "outputId": "140a7dcb-215a-484f-c7a7-b7ea8a28222c",
        "colab": {
          "base_uri": "https://localhost:8080/",
          "height": 121
        }
      },
      "source": [
        "for i in range(5):\n",
        "  print(tokens[i:])\n"
      ],
      "execution_count": 10,
      "outputs": [
        {
          "output_type": "stream",
          "text": [
            "['Natural', 'language', 'processing', 'NLP', 'is', 'an', 'area', 'of', 'computer', 'science', 'and', 'artificial', 'intelligence', 'concerned', 'with', 'the', 'interactions', 'between', 'computers', 'and', 'human', 'natural', 'languages']\n",
            "['language', 'processing', 'NLP', 'is', 'an', 'area', 'of', 'computer', 'science', 'and', 'artificial', 'intelligence', 'concerned', 'with', 'the', 'interactions', 'between', 'computers', 'and', 'human', 'natural', 'languages']\n",
            "['processing', 'NLP', 'is', 'an', 'area', 'of', 'computer', 'science', 'and', 'artificial', 'intelligence', 'concerned', 'with', 'the', 'interactions', 'between', 'computers', 'and', 'human', 'natural', 'languages']\n",
            "['NLP', 'is', 'an', 'area', 'of', 'computer', 'science', 'and', 'artificial', 'intelligence', 'concerned', 'with', 'the', 'interactions', 'between', 'computers', 'and', 'human', 'natural', 'languages']\n",
            "['is', 'an', 'area', 'of', 'computer', 'science', 'and', 'artificial', 'intelligence', 'concerned', 'with', 'the', 'interactions', 'between', 'computers', 'and', 'human', 'natural', 'languages']\n"
          ],
          "name": "stdout"
        }
      ]
    },
    {
      "cell_type": "code",
      "metadata": {
        "id": "2Ezt_6HdDSlz",
        "colab_type": "code",
        "outputId": "4f885879-7b5c-41cf-8a80-82e6f4c26ae4",
        "colab": {
          "base_uri": "https://localhost:8080/",
          "height": 54
        }
      },
      "source": [
        "ngrams = zip(*[tokens[i:] for i in range(5)])\n",
        "print(tuple(ngrams))"
      ],
      "execution_count": 11,
      "outputs": [
        {
          "output_type": "stream",
          "text": [
            "(('Natural', 'language', 'processing', 'NLP', 'is'), ('language', 'processing', 'NLP', 'is', 'an'), ('processing', 'NLP', 'is', 'an', 'area'), ('NLP', 'is', 'an', 'area', 'of'), ('is', 'an', 'area', 'of', 'computer'), ('an', 'area', 'of', 'computer', 'science'), ('area', 'of', 'computer', 'science', 'and'), ('of', 'computer', 'science', 'and', 'artificial'), ('computer', 'science', 'and', 'artificial', 'intelligence'), ('science', 'and', 'artificial', 'intelligence', 'concerned'), ('and', 'artificial', 'intelligence', 'concerned', 'with'), ('artificial', 'intelligence', 'concerned', 'with', 'the'), ('intelligence', 'concerned', 'with', 'the', 'interactions'), ('concerned', 'with', 'the', 'interactions', 'between'), ('with', 'the', 'interactions', 'between', 'computers'), ('the', 'interactions', 'between', 'computers', 'and'), ('interactions', 'between', 'computers', 'and', 'human'), ('between', 'computers', 'and', 'human', 'natural'), ('computers', 'and', 'human', 'natural', 'languages'))\n"
          ],
          "name": "stdout"
        }
      ]
    },
    {
      "cell_type": "code",
      "metadata": {
        "id": "wwXQe01v5WL_",
        "colab_type": "code",
        "colab": {}
      },
      "source": [
        "\n",
        "\n",
        "def ngrams_generator(s,n):\n",
        "  s = s.lower() #converting the all the text to lowercase\n",
        "  s = re.sub(r'[^a-zA-Z0-9\\s]',' ',s) #replace all the non-alphanumeric charecters with spaces\n",
        "  tokens = [token for token in s.split(\" \") if token != \"\"] # Break sentence in the token, remove empty tokens\n",
        "  ngrams = zip(*[tokens[i:] for i in range(n)])\n",
        "  return [\" \".join(ngram) for ngram in ngrams]\n"
      ],
      "execution_count": 0,
      "outputs": []
    },
    {
      "cell_type": "code",
      "metadata": {
        "id": "v-377ChT5WJG",
        "colab_type": "code",
        "outputId": "5b1bb4ca-644c-49cc-a213-b5a221b69919",
        "colab": {
          "base_uri": "https://localhost:8080/",
          "height": 336
        }
      },
      "source": [
        "ngrams_generator(s,n=5)"
      ],
      "execution_count": 13,
      "outputs": [
        {
          "output_type": "execute_result",
          "data": {
            "text/plain": [
              "['natural language processing nlp is',\n",
              " 'language processing nlp is an',\n",
              " 'processing nlp is an area',\n",
              " 'nlp is an area of',\n",
              " 'is an area of computer',\n",
              " 'an area of computer science',\n",
              " 'area of computer science and',\n",
              " 'of computer science and artificial',\n",
              " 'computer science and artificial intelligence',\n",
              " 'science and artificial intelligence concerned',\n",
              " 'and artificial intelligence concerned with',\n",
              " 'artificial intelligence concerned with the',\n",
              " 'intelligence concerned with the interactions',\n",
              " 'concerned with the interactions between',\n",
              " 'with the interactions between computers',\n",
              " 'the interactions between computers and',\n",
              " 'interactions between computers and human',\n",
              " 'between computers and human natural',\n",
              " 'computers and human natural languages']"
            ]
          },
          "metadata": {
            "tags": []
          },
          "execution_count": 13
        }
      ]
    },
    {
      "cell_type": "markdown",
      "metadata": {
        "id": "YFcP_6W5IqUG",
        "colab_type": "text"
      },
      "source": [
        "**Using NLTK Library**"
      ]
    },
    {
      "cell_type": "code",
      "metadata": {
        "id": "t_GlMHCg5WGe",
        "colab_type": "code",
        "colab": {}
      },
      "source": [
        "s = \"Natural-language processing (NLP) is an area of computer science \" \\\n",
        "    \"and artificial intelligence concerned with the interactions \" \\\n",
        "    \"between computers and human (natural) languages.\"\n",
        "    \n",
        "from nltk.util import ngrams\n",
        "\n",
        "s = s.lower()\n",
        "s = re.sub(r'[^a-zA-Z0-9\\s]', ' ', s)\n",
        "tokens = [token for token in s.split(\" \") if token != \"\"]\n",
        "output = list(ngrams(tokens, 5))"
      ],
      "execution_count": 0,
      "outputs": []
    },
    {
      "cell_type": "code",
      "metadata": {
        "id": "s8jJQGnWI067",
        "colab_type": "code",
        "colab": {
          "base_uri": "https://localhost:8080/",
          "height": 336
        },
        "outputId": "5e15009b-aaf5-4b2b-b3e1-29045e2ecfb1"
      },
      "source": [
        "output"
      ],
      "execution_count": 15,
      "outputs": [
        {
          "output_type": "execute_result",
          "data": {
            "text/plain": [
              "[('natural', 'language', 'processing', 'nlp', 'is'),\n",
              " ('language', 'processing', 'nlp', 'is', 'an'),\n",
              " ('processing', 'nlp', 'is', 'an', 'area'),\n",
              " ('nlp', 'is', 'an', 'area', 'of'),\n",
              " ('is', 'an', 'area', 'of', 'computer'),\n",
              " ('an', 'area', 'of', 'computer', 'science'),\n",
              " ('area', 'of', 'computer', 'science', 'and'),\n",
              " ('of', 'computer', 'science', 'and', 'artificial'),\n",
              " ('computer', 'science', 'and', 'artificial', 'intelligence'),\n",
              " ('science', 'and', 'artificial', 'intelligence', 'concerned'),\n",
              " ('and', 'artificial', 'intelligence', 'concerned', 'with'),\n",
              " ('artificial', 'intelligence', 'concerned', 'with', 'the'),\n",
              " ('intelligence', 'concerned', 'with', 'the', 'interactions'),\n",
              " ('concerned', 'with', 'the', 'interactions', 'between'),\n",
              " ('with', 'the', 'interactions', 'between', 'computers'),\n",
              " ('the', 'interactions', 'between', 'computers', 'and'),\n",
              " ('interactions', 'between', 'computers', 'and', 'human'),\n",
              " ('between', 'computers', 'and', 'human', 'natural'),\n",
              " ('computers', 'and', 'human', 'natural', 'languages')]"
            ]
          },
          "metadata": {
            "tags": []
          },
          "execution_count": 15
        }
      ]
    }
  ]
}