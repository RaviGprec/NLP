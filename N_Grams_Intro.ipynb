{
  "nbformat": 4,
  "nbformat_minor": 0,
  "metadata": {
    "colab": {
      "name": "N-Grams Intro.ipynb",
      "provenance": [],
      "authorship_tag": "ABX9TyPZKcELoCqim54RjKduH8ka",
      "include_colab_link": true
    },
    "kernelspec": {
      "name": "python3",
      "display_name": "Python 3"
    }
  },
  "cells": [
    {
      "cell_type": "markdown",
      "metadata": {
        "id": "view-in-github",
        "colab_type": "text"
      },
      "source": [
        "<a href=\"https://colab.research.google.com/github/RaviGprec/NLP/blob/master/N_Grams_Intro.ipynb\" target=\"_parent\"><img src=\"https://colab.research.google.com/assets/colab-badge.svg\" alt=\"Open In Colab\"/></a>"
      ]
    },
    {
      "cell_type": "markdown",
      "metadata": {
        "id": "T_lMcrtl_7Lt",
        "colab_type": "text"
      },
      "source": [
        " **N-Grams**\n",
        "\n",
        "*   An n-gram is a contiguous sequence of n items from a given sample of text or speech. The items can be phonemes, syllables, letters, words or base pairs according to the application. The n-grams typically are collected from a text or speech corpus.\n",
        "*   An n-gram of size 1 is referred to as a \"unigram\"; size 2 is a \"bigram\" (or, less commonly, a \"digram\"); size 3 is a \"trigram\". English cardinal numbers are sometimes used, e.g., \"four-gram\", \"five-gram\", and so on\n",
        "*   An n-gram model is a type of probabilistic **language model** **[LM]**for predicting the next item in a sequence\n"
      ]
    },
    {
      "cell_type": "code",
      "metadata": {
        "id": "X1mFiJXuB3ow",
        "colab_type": "code",
        "colab": {}
      },
      "source": [
        "s = \"Natural-language processing (NLP) is an area of computer science \" \\\n",
        "    \"and artificial intelligence concerned with the interactions \" \\\n",
        "    \"between computers and human (natural) languages.\""
      ],
      "execution_count": 0,
      "outputs": []
    },
    {
      "cell_type": "code",
      "metadata": {
        "id": "4-CQf2czBnWE",
        "colab_type": "code",
        "colab": {
          "base_uri": "https://localhost:8080/",
          "height": 34
        },
        "outputId": "ff718e4e-b8a2-4a56-8c71-fea7405c5a73"
      },
      "source": [
        "s"
      ],
      "execution_count": 10,
      "outputs": [
        {
          "output_type": "execute_result",
          "data": {
            "text/plain": [
              "'Natural-language processing (NLP) is an area of computer science and artificial intelligence concerned with the interactions between computers and human (natural) languages.'"
            ]
          },
          "metadata": {
            "tags": []
          },
          "execution_count": 10
        }
      ]
    },
    {
      "cell_type": "code",
      "metadata": {
        "id": "5oDQHMYzByPL",
        "colab_type": "code",
        "colab": {
          "base_uri": "https://localhost:8080/",
          "height": 34
        },
        "outputId": "d8a9c731-e514-4d28-d8e7-e7ffe03d8194"
      },
      "source": [
        "s = re.sub(r'[^a-zA-Z0-9\\s]',' ',s)\n",
        "s"
      ],
      "execution_count": 11,
      "outputs": [
        {
          "output_type": "execute_result",
          "data": {
            "text/plain": [
              "'Natural language processing  NLP  is an area of computer science and artificial intelligence concerned with the interactions between computers and human  natural  languages '"
            ]
          },
          "metadata": {
            "tags": []
          },
          "execution_count": 11
        }
      ]
    },
    {
      "cell_type": "code",
      "metadata": {
        "id": "KJRkWHMNB_dU",
        "colab_type": "code",
        "colab": {
          "base_uri": "https://localhost:8080/",
          "height": 403
        },
        "outputId": "e293227e-427c-4c03-8343-73ee2677569d"
      },
      "source": [
        "tokens = [token for token in s.split(\" \") if token != \"\"]\n",
        "tokens"
      ],
      "execution_count": 12,
      "outputs": [
        {
          "output_type": "execute_result",
          "data": {
            "text/plain": [
              "['Natural',\n",
              " 'language',\n",
              " 'processing',\n",
              " 'NLP',\n",
              " 'is',\n",
              " 'an',\n",
              " 'area',\n",
              " 'of',\n",
              " 'computer',\n",
              " 'science',\n",
              " 'and',\n",
              " 'artificial',\n",
              " 'intelligence',\n",
              " 'concerned',\n",
              " 'with',\n",
              " 'the',\n",
              " 'interactions',\n",
              " 'between',\n",
              " 'computers',\n",
              " 'and',\n",
              " 'human',\n",
              " 'natural',\n",
              " 'languages']"
            ]
          },
          "metadata": {
            "tags": []
          },
          "execution_count": 12
        }
      ]
    },
    {
      "cell_type": "code",
      "metadata": {
        "id": "SFm7XFqECOHM",
        "colab_type": "code",
        "colab": {
          "base_uri": "https://localhost:8080/",
          "height": 121
        },
        "outputId": "ca86f036-489c-4b95-b231-f0e879fcd5c1"
      },
      "source": [
        "for i in range(5):\n",
        "  print(tokens[i:])\n"
      ],
      "execution_count": 16,
      "outputs": [
        {
          "output_type": "stream",
          "text": [
            "['Natural', 'language', 'processing', 'NLP', 'is', 'an', 'area', 'of', 'computer', 'science', 'and', 'artificial', 'intelligence', 'concerned', 'with', 'the', 'interactions', 'between', 'computers', 'and', 'human', 'natural', 'languages']\n",
            "['language', 'processing', 'NLP', 'is', 'an', 'area', 'of', 'computer', 'science', 'and', 'artificial', 'intelligence', 'concerned', 'with', 'the', 'interactions', 'between', 'computers', 'and', 'human', 'natural', 'languages']\n",
            "['processing', 'NLP', 'is', 'an', 'area', 'of', 'computer', 'science', 'and', 'artificial', 'intelligence', 'concerned', 'with', 'the', 'interactions', 'between', 'computers', 'and', 'human', 'natural', 'languages']\n",
            "['NLP', 'is', 'an', 'area', 'of', 'computer', 'science', 'and', 'artificial', 'intelligence', 'concerned', 'with', 'the', 'interactions', 'between', 'computers', 'and', 'human', 'natural', 'languages']\n",
            "['is', 'an', 'area', 'of', 'computer', 'science', 'and', 'artificial', 'intelligence', 'concerned', 'with', 'the', 'interactions', 'between', 'computers', 'and', 'human', 'natural', 'languages']\n"
          ],
          "name": "stdout"
        }
      ]
    },
    {
      "cell_type": "code",
      "metadata": {
        "id": "2Ezt_6HdDSlz",
        "colab_type": "code",
        "colab": {
          "base_uri": "https://localhost:8080/",
          "height": 54
        },
        "outputId": "5e3d9b59-828e-419f-a7b2-b40ebc74a3c5"
      },
      "source": [
        "ngrams = zip(*[tokens[i:] for i in range(5)])\n",
        "print(tuple(ngrams))"
      ],
      "execution_count": 25,
      "outputs": [
        {
          "output_type": "stream",
          "text": [
            "(('Natural', 'language', 'processing', 'NLP', 'is'), ('language', 'processing', 'NLP', 'is', 'an'), ('processing', 'NLP', 'is', 'an', 'area'), ('NLP', 'is', 'an', 'area', 'of'), ('is', 'an', 'area', 'of', 'computer'), ('an', 'area', 'of', 'computer', 'science'), ('area', 'of', 'computer', 'science', 'and'), ('of', 'computer', 'science', 'and', 'artificial'), ('computer', 'science', 'and', 'artificial', 'intelligence'), ('science', 'and', 'artificial', 'intelligence', 'concerned'), ('and', 'artificial', 'intelligence', 'concerned', 'with'), ('artificial', 'intelligence', 'concerned', 'with', 'the'), ('intelligence', 'concerned', 'with', 'the', 'interactions'), ('concerned', 'with', 'the', 'interactions', 'between'), ('with', 'the', 'interactions', 'between', 'computers'), ('the', 'interactions', 'between', 'computers', 'and'), ('interactions', 'between', 'computers', 'and', 'human'), ('between', 'computers', 'and', 'human', 'natural'), ('computers', 'and', 'human', 'natural', 'languages'))\n"
          ],
          "name": "stdout"
        }
      ]
    },
    {
      "cell_type": "code",
      "metadata": {
        "id": "wwXQe01v5WL_",
        "colab_type": "code",
        "colab": {}
      },
      "source": [
        "import re\n",
        "\n",
        "def ngrams_generator(s,n):\n",
        "  s = s.lower() #converting the all the text to lowercase\n",
        "  s = re.sub(r'[^a-zA-Z0-9\\s]',' ',s) #replace all the non-alphanumeric charecters with spaces\n",
        "  tokens = [token for token in s.split(\" \") if token != \"\"] # Break sentence in the token, remove empty tokens\n",
        "  ngrams = zip(*[tokens[i:] for i in range(n)])\n",
        "  return [\" \".join(ngram) for ngram in ngrams]\n"
      ],
      "execution_count": 0,
      "outputs": []
    },
    {
      "cell_type": "code",
      "metadata": {
        "id": "v-377ChT5WJG",
        "colab_type": "code",
        "colab": {
          "base_uri": "https://localhost:8080/",
          "height": 336
        },
        "outputId": "2ecd1859-60c0-4084-8c22-8981bf90f540"
      },
      "source": [
        "ngrams_generator(s,n=5)"
      ],
      "execution_count": 9,
      "outputs": [
        {
          "output_type": "execute_result",
          "data": {
            "text/plain": [
              "['natural language processing nlp is',\n",
              " 'language processing nlp is an',\n",
              " 'processing nlp is an area',\n",
              " 'nlp is an area of',\n",
              " 'is an area of computer',\n",
              " 'an area of computer science',\n",
              " 'area of computer science and',\n",
              " 'of computer science and artificial',\n",
              " 'computer science and artificial intelligence',\n",
              " 'science and artificial intelligence concerned',\n",
              " 'and artificial intelligence concerned with',\n",
              " 'artificial intelligence concerned with the',\n",
              " 'intelligence concerned with the interactions',\n",
              " 'concerned with the interactions between',\n",
              " 'with the interactions between computers',\n",
              " 'the interactions between computers and',\n",
              " 'interactions between computers and human',\n",
              " 'between computers and human natural',\n",
              " 'computers and human natural languages']"
            ]
          },
          "metadata": {
            "tags": []
          },
          "execution_count": 9
        }
      ]
    },
    {
      "cell_type": "code",
      "metadata": {
        "id": "t_GlMHCg5WGe",
        "colab_type": "code",
        "colab": {}
      },
      "source": [
        ""
      ],
      "execution_count": 0,
      "outputs": []
    }
  ]
}